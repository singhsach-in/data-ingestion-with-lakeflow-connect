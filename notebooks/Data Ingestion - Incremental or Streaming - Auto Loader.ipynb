{
 "cells": [
  {
   "cell_type": "code",
   "execution_count": 0,
   "metadata": {
    "application/vnd.databricks.v1+cell": {
     "cellMetadata": {},
     "inputWidgets": {},
     "nuid": "ca661b51-db5d-4dbb-a202-096b802fed62",
     "showTitle": false,
     "tableResultSettingsMap": {},
     "title": ""
    }
   },
   "outputs": [],
   "source": [
    "df = spark.readStrean.format('cloudFiles') \\\n",
    "        .option('cloudFiles.format', 'csv') \\\n",
    "        .option('cloudFiles.SchemaLocation', '<checkpoint_path>') \\\n",
    "        .load('/volumnes/catalog/schema/table')\n",
    "          "
   ]
  },
  {
   "cell_type": "code",
   "execution_count": 0,
   "metadata": {
    "application/vnd.databricks.v1+cell": {
     "cellMetadata": {},
     "inputWidgets": {},
     "nuid": "7e74e5d9-1f56-4a8c-8860-22669a66a0b4",
     "showTitle": false,
     "tableResultSettingsMap": {},
     "title": ""
    }
   },
   "outputs": [],
   "source": [
    "spark.writeStream.option('checkpointLocation', '<checkpoint_path>') \\\n",
    "    .trigger(processingTime = '5 seconds') \\\n",
    "    .toTable('catalog.schema.table')"
   ]
  }
 ],
 "metadata": {
  "application/vnd.databricks.v1+notebook": {
   "computePreferences": null,
   "dashboards": [],
   "environmentMetadata": {
    "base_environment": "",
    "environment_version": "2"
   },
   "inputWidgetPreferences": null,
   "language": "python",
   "notebookMetadata": {
    "pythonIndentUnit": 4
   },
   "notebookName": "Data Ingestion - Incremental or Streaming - Auto Loader",
   "widgets": {}
  },
  "language_info": {
   "name": "python"
  }
 },
 "nbformat": 4,
 "nbformat_minor": 0
}
